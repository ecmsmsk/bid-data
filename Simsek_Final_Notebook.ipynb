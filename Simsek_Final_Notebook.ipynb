{
 "cells": [
  {
   "cell_type": "markdown",
   "metadata": {
    "application/vnd.databricks.v1+cell": {
     "cellMetadata": {
      "byteLimit": 2048000,
      "rowLimit": 10000
     },
     "inputWidgets": {},
     "nuid": "96816ed7-b08a-4ca3-abb9-f99880c3535d",
     "showTitle": false,
     "title": ""
    }
   },
   "source": [
    "\n",
    "# Final Project\n",
    "## Introduction\n",
    "- This notebok is created for Final Project - Big Data Analysis.\n",
    "- In this project, we will cover \"diabetes.cvs\" dataset."
   ]
  },
  {
   "cell_type": "markdown",
   "metadata": {
    "application/vnd.databricks.v1+cell": {
     "cellMetadata": {
      "byteLimit": 2048000,
      "rowLimit": 10000
     },
     "inputWidgets": {},
     "nuid": "6be1edfc-f0e7-4c09-ad4f-8e54dc17ca00",
     "showTitle": false,
     "title": ""
    }
   },
   "source": [
    "## Objective\n",
    "- To build classification models that predict the future probabilities of a person to become diabetic or not based\n",
    "on other factors (independent variables)\n",
    "- To find he models’ prediction \n",
    "- In this project, we will apply supervised learning - logistic Regression.\n",
    "- Model Building includes 2 classification models:\n",
    "1. AdaBoost Classifier\n",
    "2. Gradient Boosting Classifier"
   ]
  },
  {
   "cell_type": "markdown",
   "metadata": {
    "application/vnd.databricks.v1+cell": {
     "cellMetadata": {
      "byteLimit": 2048000,
      "rowLimit": 10000
     },
     "inputWidgets": {},
     "nuid": "73d23237-ae2a-4c94-a6c5-0747de482021",
     "showTitle": false,
     "title": ""
    }
   },
   "source": [
    "## Data Description\n",
    "Data Description:\n",
    "- Pregnancies: Number of times pregnant\n",
    "- Glucose: Plasma glucose concentration (2 hours in an oral glucose tolerance test)\n",
    "- BloodPressure: Diastolic blood pressure (mm Hg)\n",
    "- SkinThickness: Triceps skin fold thickness (mm)\n",
    "- Insulin: 2-Hour serum insulin (mu U/ml)\n",
    "- BMI: Body mass index (weight in kg/(height in m)^2)\n",
    "- DiabetesPedigreeFunction: Diabetes pedigree function\n",
    "- Age: Age (years)\n",
    "- Outcome: Class variable (0 or 1). This is a target variable."
   ]
  },
  {
   "cell_type": "code",
   "execution_count": 0,
   "metadata": {
    "application/vnd.databricks.v1+cell": {
     "cellMetadata": {
      "byteLimit": 2048000,
      "rowLimit": 10000
     },
     "inputWidgets": {},
     "nuid": "81daa80e-4b7a-42aa-a113-881b95bae9eb",
     "showTitle": false,
     "title": ""
    }
   },
   "outputs": [
    {
     "output_type": "stream",
     "name": "stdout",
     "output_type": "stream",
     "text": [
      "Requirement already satisfied: pip in /local_disk0/.ephemeral_nfs/envs/pythonEnv-27370dce-2518-40d5-82da-971658149bd5/lib/python3.9/site-packages (24.0)\r\n"
     ]
    }
   ],
   "source": [
    "!pip install --upgrade pip"
   ]
  },
  {
   "cell_type": "code",
   "execution_count": 0,
   "metadata": {
    "application/vnd.databricks.v1+cell": {
     "cellMetadata": {
      "byteLimit": 2048000,
      "rowLimit": 10000
     },
     "inputWidgets": {},
     "nuid": "8f3c329c-b958-40a0-8e8d-3e528fcbb7c1",
     "showTitle": false,
     "title": ""
    }
   },
   "outputs": [],
   "source": [
    "!pip install -q findspark"
   ]
  },
  {
   "cell_type": "code",
   "execution_count": 0,
   "metadata": {
    "application/vnd.databricks.v1+cell": {
     "cellMetadata": {
      "byteLimit": 2048000,
      "rowLimit": 10000
     },
     "inputWidgets": {},
     "nuid": "1fdb5cd5-eb7c-4528-ad8d-4bfef61add48",
     "showTitle": false,
     "title": ""
    }
   },
   "outputs": [
    {
     "output_type": "stream",
     "name": "stdout",
     "output_type": "stream",
     "text": [
      "Requirement already satisfied: pyspark in /local_disk0/.ephemeral_nfs/envs/pythonEnv-27370dce-2518-40d5-82da-971658149bd5/lib/python3.9/site-packages (3.5.1)\r\nRequirement already satisfied: py4j==0.10.9.7 in /local_disk0/.ephemeral_nfs/envs/pythonEnv-27370dce-2518-40d5-82da-971658149bd5/lib/python3.9/site-packages (from pyspark) (0.10.9.7)\r\n"
     ]
    }
   ],
   "source": [
    "!pip install pyspark"
   ]
  },
  {
   "cell_type": "markdown",
   "metadata": {
    "application/vnd.databricks.v1+cell": {
     "cellMetadata": {
      "byteLimit": 2048000,
      "rowLimit": 10000
     },
     "inputWidgets": {},
     "nuid": "30bbcf80-ea0b-46f8-898b-461055b25922",
     "showTitle": false,
     "title": ""
    }
   },
   "source": [
    "# Cretae SparkSession"
   ]
  },
  {
   "cell_type": "code",
   "execution_count": 0,
   "metadata": {
    "application/vnd.databricks.v1+cell": {
     "cellMetadata": {
      "byteLimit": 2048000,
      "rowLimit": 10000
     },
     "inputWidgets": {},
     "nuid": "f76ebf9a-a012-408b-a7c0-f15c99f567e8",
     "showTitle": false,
     "title": ""
    }
   },
   "outputs": [],
   "source": [
    "import findspark\n",
    "findspark.init()\n",
    "#Starting a Spark Session\n",
    "from pyspark.sql import SparkSession\n",
    "spark = SparkSession.builder.appName('financial').getOrCreate()"
   ]
  },
  {
   "cell_type": "code",
   "execution_count": 0,
   "metadata": {
    "application/vnd.databricks.v1+cell": {
     "cellMetadata": {
      "byteLimit": 2048000,
      "rowLimit": 10000
     },
     "inputWidgets": {},
     "nuid": "8b12adee-d921-4cf5-bd7d-669273b59bf6",
     "showTitle": false,
     "title": ""
    }
   },
   "outputs": [
    {
     "output_type": "stream",
     "name": "stdout",
     "output_type": "stream",
     "text": [
      "Requirement already satisfied: xgboost in /local_disk0/.ephemeral_nfs/envs/pythonEnv-27370dce-2518-40d5-82da-971658149bd5/lib/python3.9/site-packages (2.0.3)\r\nRequirement already satisfied: numpy in /databricks/python3/lib/python3.9/site-packages (from xgboost) (1.21.5)\r\nRequirement already satisfied: scipy in /databricks/python3/lib/python3.9/site-packages (from xgboost) (1.7.3)\r\n"
     ]
    }
   ],
   "source": [
    "!pip install xgboost "
   ]
  },
  {
   "cell_type": "markdown",
   "metadata": {
    "application/vnd.databricks.v1+cell": {
     "cellMetadata": {
      "byteLimit": 2048000,
      "rowLimit": 10000
     },
     "inputWidgets": {},
     "nuid": "ba4ba4ce-f15c-411c-9298-621ad6f508ef",
     "showTitle": false,
     "title": ""
    }
   },
   "source": [
    "# Import Libraries"
   ]
  },
  {
   "cell_type": "code",
   "execution_count": 0,
   "metadata": {
    "application/vnd.databricks.v1+cell": {
     "cellMetadata": {
      "byteLimit": 2048000,
      "rowLimit": 10000
     },
     "inputWidgets": {},
     "nuid": "74f70c19-e218-4668-85fd-d8f49878fe40",
     "showTitle": false,
     "title": ""
    }
   },
   "outputs": [],
   "source": [
    "import pandas as pd\n",
    "import numpy as np\n",
    "from sklearn import metrics\n",
    "import matplotlib.pyplot as plt\n",
    "%matplotlib inline\n",
    "import warnings\n",
    "warnings.filterwarnings('ignore')\n",
    "import seaborn as sns\n",
    "from sklearn.model_selection import train_test_split\n",
    "from sklearn.model_selection import GridSearchCV\n",
    "from sklearn import metrics\n",
    "from sklearn.tree import DecisionTreeClassifier\n",
    "from sklearn.ensemble import AdaBoostClassifier, GradientBoostingClassifier\n",
    "#To install xgboost library use - !pip install xgboost \n",
    "from xgboost import XGBClassifier"
   ]
  },
  {
   "cell_type": "markdown",
   "metadata": {
    "application/vnd.databricks.v1+cell": {
     "cellMetadata": {
      "byteLimit": 2048000,
      "rowLimit": 10000
     },
     "inputWidgets": {},
     "nuid": "6a1f076a-3e72-4057-8141-b366afb65f6c",
     "showTitle": false,
     "title": ""
    }
   },
   "source": [
    "## Loading Dataset"
   ]
  },
  {
   "cell_type": "code",
   "execution_count": 0,
   "metadata": {
    "application/vnd.databricks.v1+cell": {
     "cellMetadata": {
      "byteLimit": 2048000,
      "rowLimit": 10000
     },
     "inputWidgets": {},
     "nuid": "6482be4c-f067-47c9-b0ac-35c938b94601",
     "showTitle": false,
     "title": ""
    }
   },
   "outputs": [],
   "source": [
    "#Reading dataset\n",
    "diabetes_sdf = spark.read.csv(\"/FileStore/tables/diabetes-1.csv\", header = 'true', inferSchema = 'true')"
   ]
  },
  {
   "cell_type": "code",
   "execution_count": 0,
   "metadata": {
    "application/vnd.databricks.v1+cell": {
     "cellMetadata": {
      "byteLimit": 2048000,
      "rowLimit": 10000
     },
     "inputWidgets": {},
     "nuid": "bd82bb99-1479-4d5c-be10-8c36df0f1d44",
     "showTitle": false,
     "title": ""
    }
   },
   "outputs": [],
   "source": [
    "diabetesData = diabetes_sdf.toPandas()"
   ]
  },
  {
   "cell_type": "markdown",
   "metadata": {
    "application/vnd.databricks.v1+cell": {
     "cellMetadata": {
      "byteLimit": 2048000,
      "rowLimit": 10000
     },
     "inputWidgets": {},
     "nuid": "2d36c1ef-19e4-4fb5-bbbf-0835518c1e94",
     "showTitle": false,
     "title": ""
    }
   },
   "source": [
    "## EDA"
   ]
  },
  {
   "cell_type": "code",
   "execution_count": 0,
   "metadata": {
    "application/vnd.databricks.v1+cell": {
     "cellMetadata": {
      "byteLimit": 2048000,
      "implicitDf": true,
      "rowLimit": 10000
     },
     "inputWidgets": {},
     "nuid": "b5f66379-6f7f-42ec-8e82-d0e0926a1721",
     "showTitle": false,
     "title": ""
    }
   },
   "outputs": [
    {
     "output_type": "stream",
     "name": "stdout",
     "output_type": "stream",
     "text": [
      "Out[72]: (768, 9)"
     ]
    }
   ],
   "source": [
    "diabetesData.shape"
   ]
  },
  {
   "cell_type": "code",
   "execution_count": 0,
   "metadata": {
    "application/vnd.databricks.v1+cell": {
     "cellMetadata": {
      "byteLimit": 2048000,
      "rowLimit": 10000
     },
     "inputWidgets": {},
     "nuid": "83f5d952-4998-4dbe-880d-dda60f292e18",
     "showTitle": false,
     "title": ""
    }
   },
   "outputs": [
    {
     "output_type": "stream",
     "name": "stdout",
     "output_type": "stream",
     "text": [
      "<class 'pandas.core.frame.DataFrame'>\nRangeIndex: 768 entries, 0 to 767\nData columns (total 9 columns):\n #   Column                    Non-Null Count  Dtype  \n---  ------                    --------------  -----  \n 0   Pregnancies               768 non-null    int32  \n 1   Glucose                   768 non-null    int32  \n 2   BloodPressure             768 non-null    int32  \n 3   SkinThickness             768 non-null    int32  \n 4   Insulin                   768 non-null    int32  \n 5   BMI                       768 non-null    float64\n 6   DiabetesPedigreeFunction  768 non-null    float64\n 7   Age                       768 non-null    int32  \n 8   Outcome                   768 non-null    int32  \ndtypes: float64(2), int32(7)\nmemory usage: 33.1 KB\n"
     ]
    }
   ],
   "source": [
    "diabetesData.info()"
   ]
  },
  {
   "cell_type": "code",
   "execution_count": 0,
   "metadata": {
    "application/vnd.databricks.v1+cell": {
     "cellMetadata": {
      "byteLimit": 2048000,
      "rowLimit": 10000
     },
     "inputWidgets": {},
     "nuid": "b3af9c87-2293-4ab4-8f0f-15c772557613",
     "showTitle": false,
     "title": ""
    }
   },
   "outputs": [
    {
     "output_type": "display_data",
     "data": {
      "text/html": [
       "<div>\n",
       "<style scoped>\n",
       "    .dataframe tbody tr th:only-of-type {\n",
       "        vertical-align: middle;\n",
       "    }\n",
       "\n",
       "    .dataframe tbody tr th {\n",
       "        vertical-align: top;\n",
       "    }\n",
       "\n",
       "    .dataframe thead th {\n",
       "        text-align: right;\n",
       "    }\n",
       "</style>\n",
       "<table border=\"1\" class=\"dataframe\">\n",
       "  <thead>\n",
       "    <tr style=\"text-align: right;\">\n",
       "      <th></th>\n",
       "      <th>Pregnancies</th>\n",
       "      <th>Glucose</th>\n",
       "      <th>BloodPressure</th>\n",
       "      <th>SkinThickness</th>\n",
       "      <th>Insulin</th>\n",
       "      <th>BMI</th>\n",
       "      <th>DiabetesPedigreeFunction</th>\n",
       "      <th>Age</th>\n",
       "      <th>Outcome</th>\n",
       "    </tr>\n",
       "  </thead>\n",
       "  <tbody>\n",
       "    <tr>\n",
       "      <th>count</th>\n",
       "      <td>768.000000</td>\n",
       "      <td>768.000000</td>\n",
       "      <td>768.000000</td>\n",
       "      <td>768.000000</td>\n",
       "      <td>768.000000</td>\n",
       "      <td>768.000000</td>\n",
       "      <td>768.000000</td>\n",
       "      <td>768.000000</td>\n",
       "      <td>768.000000</td>\n",
       "    </tr>\n",
       "    <tr>\n",
       "      <th>mean</th>\n",
       "      <td>3.845052</td>\n",
       "      <td>120.894531</td>\n",
       "      <td>69.105469</td>\n",
       "      <td>20.536458</td>\n",
       "      <td>79.799479</td>\n",
       "      <td>31.992578</td>\n",
       "      <td>0.471876</td>\n",
       "      <td>33.240885</td>\n",
       "      <td>0.348958</td>\n",
       "    </tr>\n",
       "    <tr>\n",
       "      <th>std</th>\n",
       "      <td>3.369578</td>\n",
       "      <td>31.972618</td>\n",
       "      <td>19.355807</td>\n",
       "      <td>15.952218</td>\n",
       "      <td>115.244002</td>\n",
       "      <td>7.884160</td>\n",
       "      <td>0.331329</td>\n",
       "      <td>11.760232</td>\n",
       "      <td>0.476951</td>\n",
       "    </tr>\n",
       "    <tr>\n",
       "      <th>min</th>\n",
       "      <td>0.000000</td>\n",
       "      <td>0.000000</td>\n",
       "      <td>0.000000</td>\n",
       "      <td>0.000000</td>\n",
       "      <td>0.000000</td>\n",
       "      <td>0.000000</td>\n",
       "      <td>0.078000</td>\n",
       "      <td>21.000000</td>\n",
       "      <td>0.000000</td>\n",
       "    </tr>\n",
       "    <tr>\n",
       "      <th>25%</th>\n",
       "      <td>1.000000</td>\n",
       "      <td>99.000000</td>\n",
       "      <td>62.000000</td>\n",
       "      <td>0.000000</td>\n",
       "      <td>0.000000</td>\n",
       "      <td>27.300000</td>\n",
       "      <td>0.243750</td>\n",
       "      <td>24.000000</td>\n",
       "      <td>0.000000</td>\n",
       "    </tr>\n",
       "    <tr>\n",
       "      <th>50%</th>\n",
       "      <td>3.000000</td>\n",
       "      <td>117.000000</td>\n",
       "      <td>72.000000</td>\n",
       "      <td>23.000000</td>\n",
       "      <td>30.500000</td>\n",
       "      <td>32.000000</td>\n",
       "      <td>0.372500</td>\n",
       "      <td>29.000000</td>\n",
       "      <td>0.000000</td>\n",
       "    </tr>\n",
       "    <tr>\n",
       "      <th>75%</th>\n",
       "      <td>6.000000</td>\n",
       "      <td>140.250000</td>\n",
       "      <td>80.000000</td>\n",
       "      <td>32.000000</td>\n",
       "      <td>127.250000</td>\n",
       "      <td>36.600000</td>\n",
       "      <td>0.626250</td>\n",
       "      <td>41.000000</td>\n",
       "      <td>1.000000</td>\n",
       "    </tr>\n",
       "    <tr>\n",
       "      <th>max</th>\n",
       "      <td>17.000000</td>\n",
       "      <td>199.000000</td>\n",
       "      <td>122.000000</td>\n",
       "      <td>99.000000</td>\n",
       "      <td>846.000000</td>\n",
       "      <td>67.100000</td>\n",
       "      <td>2.420000</td>\n",
       "      <td>81.000000</td>\n",
       "      <td>1.000000</td>\n",
       "    </tr>\n",
       "  </tbody>\n",
       "</table>\n",
       "</div>"
      ]
     },
     "metadata": {
      "application/vnd.databricks.v1+output": {
       "addedWidgets": {},
       "arguments": {},
       "data": "<div>\n<style scoped>\n    .dataframe tbody tr th:only-of-type {\n        vertical-align: middle;\n    }\n\n    .dataframe tbody tr th {\n        vertical-align: top;\n    }\n\n    .dataframe thead th {\n        text-align: right;\n    }\n</style>\n<table border=\"1\" class=\"dataframe\">\n  <thead>\n    <tr style=\"text-align: right;\">\n      <th></th>\n      <th>Pregnancies</th>\n      <th>Glucose</th>\n      <th>BloodPressure</th>\n      <th>SkinThickness</th>\n      <th>Insulin</th>\n      <th>BMI</th>\n      <th>DiabetesPedigreeFunction</th>\n      <th>Age</th>\n      <th>Outcome</th>\n    </tr>\n  </thead>\n  <tbody>\n    <tr>\n      <th>count</th>\n      <td>768.000000</td>\n      <td>768.000000</td>\n      <td>768.000000</td>\n      <td>768.000000</td>\n      <td>768.000000</td>\n      <td>768.000000</td>\n      <td>768.000000</td>\n      <td>768.000000</td>\n      <td>768.000000</td>\n    </tr>\n    <tr>\n      <th>mean</th>\n      <td>3.845052</td>\n      <td>120.894531</td>\n      <td>69.105469</td>\n      <td>20.536458</td>\n      <td>79.799479</td>\n      <td>31.992578</td>\n      <td>0.471876</td>\n      <td>33.240885</td>\n      <td>0.348958</td>\n    </tr>\n    <tr>\n      <th>std</th>\n      <td>3.369578</td>\n      <td>31.972618</td>\n      <td>19.355807</td>\n      <td>15.952218</td>\n      <td>115.244002</td>\n      <td>7.884160</td>\n      <td>0.331329</td>\n      <td>11.760232</td>\n      <td>0.476951</td>\n    </tr>\n    <tr>\n      <th>min</th>\n      <td>0.000000</td>\n      <td>0.000000</td>\n      <td>0.000000</td>\n      <td>0.000000</td>\n      <td>0.000000</td>\n      <td>0.000000</td>\n      <td>0.078000</td>\n      <td>21.000000</td>\n      <td>0.000000</td>\n    </tr>\n    <tr>\n      <th>25%</th>\n      <td>1.000000</td>\n      <td>99.000000</td>\n      <td>62.000000</td>\n      <td>0.000000</td>\n      <td>0.000000</td>\n      <td>27.300000</td>\n      <td>0.243750</td>\n      <td>24.000000</td>\n      <td>0.000000</td>\n    </tr>\n    <tr>\n      <th>50%</th>\n      <td>3.000000</td>\n      <td>117.000000</td>\n      <td>72.000000</td>\n      <td>23.000000</td>\n      <td>30.500000</td>\n      <td>32.000000</td>\n      <td>0.372500</td>\n      <td>29.000000</td>\n      <td>0.000000</td>\n    </tr>\n    <tr>\n      <th>75%</th>\n      <td>6.000000</td>\n      <td>140.250000</td>\n      <td>80.000000</td>\n      <td>32.000000</td>\n      <td>127.250000</td>\n      <td>36.600000</td>\n      <td>0.626250</td>\n      <td>41.000000</td>\n      <td>1.000000</td>\n    </tr>\n    <tr>\n      <th>max</th>\n      <td>17.000000</td>\n      <td>199.000000</td>\n      <td>122.000000</td>\n      <td>99.000000</td>\n      <td>846.000000</td>\n      <td>67.100000</td>\n      <td>2.420000</td>\n      <td>81.000000</td>\n      <td>1.000000</td>\n    </tr>\n  </tbody>\n</table>\n</div>",
       "datasetInfos": [],
       "metadata": {},
       "removedWidgets": [],
       "textData": null,
       "type": "htmlSandbox"
      }
     },
     "output_type": "display_data"
    }
   ],
   "source": [
    "diabetesData.describe()"
   ]
  },
  {
   "cell_type": "code",
   "execution_count": 0,
   "metadata": {
    "application/vnd.databricks.v1+cell": {
     "cellMetadata": {
      "byteLimit": 2048000,
      "rowLimit": 10000
     },
     "inputWidgets": {},
     "nuid": "577124d7-b756-47fc-ba37-7f6c17565087",
     "showTitle": false,
     "title": ""
    }
   },
   "outputs": [
    {
     "output_type": "stream",
     "name": "stdout",
     "output_type": "stream",
     "text": [
      "Out[75]: <bound method IndexOpsMixin.value_counts of 0      1\n1      0\n2      1\n3      0\n4      1\n      ..\n763    0\n764    0\n765    0\n766    1\n767    0\nName: Outcome, Length: 768, dtype: int32>"
     ]
    }
   ],
   "source": [
    "diabetesData['Outcome'].value_counts"
   ]
  },
  {
   "cell_type": "code",
   "execution_count": 0,
   "metadata": {
    "application/vnd.databricks.v1+cell": {
     "cellMetadata": {
      "byteLimit": 2048000,
      "rowLimit": 10000
     },
     "inputWidgets": {},
     "nuid": "3860e8e6-a028-47ac-a7c6-d135ac4feb93",
     "showTitle": false,
     "title": ""
    }
   },
   "outputs": [
    {
     "output_type": "stream",
     "name": "stdout",
     "output_type": "stream",
     "text": [
      "Out[76]: pandas.core.frame.DataFrame"
     ]
    }
   ],
   "source": [
    "type(diabetesData)"
   ]
  },
  {
   "cell_type": "code",
   "execution_count": 0,
   "metadata": {
    "application/vnd.databricks.v1+cell": {
     "cellMetadata": {
      "byteLimit": 2048000,
      "rowLimit": 10000
     },
     "inputWidgets": {},
     "nuid": "a650f199-b681-4dbc-b832-7dd670e84163",
     "showTitle": false,
     "title": ""
    }
   },
   "outputs": [
    {
     "output_type": "stream",
     "name": "stdout",
     "output_type": "stream",
     "text": [
      "<class 'pandas.core.frame.DataFrame'>\nRangeIndex: 768 entries, 0 to 767\nData columns (total 9 columns):\n #   Column                    Non-Null Count  Dtype  \n---  ------                    --------------  -----  \n 0   Pregnancies               768 non-null    int32  \n 1   Glucose                   768 non-null    int32  \n 2   BloodPressure             768 non-null    int32  \n 3   SkinThickness             768 non-null    int32  \n 4   Insulin                   768 non-null    int32  \n 5   BMI                       768 non-null    float64\n 6   DiabetesPedigreeFunction  768 non-null    float64\n 7   Age                       768 non-null    int32  \n 8   Outcome                   768 non-null    int32  \ndtypes: float64(2), int32(7)\nmemory usage: 33.1 KB\n"
     ]
    }
   ],
   "source": [
    "diabetesData.info()"
   ]
  },
  {
   "cell_type": "code",
   "execution_count": 0,
   "metadata": {
    "application/vnd.databricks.v1+cell": {
     "cellMetadata": {
      "byteLimit": 2048000,
      "rowLimit": 10000
     },
     "inputWidgets": {},
     "nuid": "9f5233d5-064e-4932-b7aa-34c0d3e30e1a",
     "showTitle": false,
     "title": ""
    }
   },
   "outputs": [
    {
     "output_type": "stream",
     "name": "stdout",
     "output_type": "stream",
     "text": [
      "Out[78]: Pregnancies                 0\nGlucose                     0\nBloodPressure               0\nSkinThickness               0\nInsulin                     0\nBMI                         0\nDiabetesPedigreeFunction    0\nAge                         0\nOutcome                     0\ndtype: int64"
     ]
    }
   ],
   "source": [
    "#there is no missing \n",
    "diabetesData.isnull().sum()"
   ]
  },
  {
   "cell_type": "code",
   "execution_count": 0,
   "metadata": {
    "application/vnd.databricks.v1+cell": {
     "cellMetadata": {
      "byteLimit": 2048000,
      "rowLimit": 10000
     },
     "inputWidgets": {},
     "nuid": "8f87cf40-daa7-4d24-a5ba-cceae7f47c21",
     "showTitle": false,
     "title": ""
    }
   },
   "outputs": [
    {
     "output_type": "stream",
     "name": "stdout",
     "output_type": "stream",
     "text": [
      "Out[79]: <bound method NDFrame.tail of      Pregnancies  Glucose  BloodPressure  SkinThickness  Insulin   BMI  \\\n0              6      148             72             35        0  33.6   \n1              1       85             66             29        0  26.6   \n2              8      183             64              0        0  23.3   \n3              1       89             66             23       94  28.1   \n4              0      137             40             35      168  43.1   \n..           ...      ...            ...            ...      ...   ...   \n763           10      101             76             48      180  32.9   \n764            2      122             70             27        0  36.8   \n765            5      121             72             23      112  26.2   \n766            1      126             60              0        0  30.1   \n767            1       93             70             31        0  30.4   \n\n     DiabetesPedigreeFunction  Age  Outcome  \n0                       0.627   50        1  \n1                       0.351   31        0  \n2                       0.672   32        1  \n3                       0.167   21        0  \n4                       2.288   33        1  \n..                        ...  ...      ...  \n763                     0.171   63        0  \n764                     0.340   27        0  \n765                     0.245   30        0  \n766                     0.349   47        1  \n767                     0.315   23        0  \n\n[768 rows x 9 columns]>"
     ]
    }
   ],
   "source": [
    "diabetesData.tail"
   ]
  },
  {
   "cell_type": "code",
   "execution_count": 0,
   "metadata": {
    "application/vnd.databricks.v1+cell": {
     "cellMetadata": {
      "byteLimit": 2048000,
      "rowLimit": 10000
     },
     "inputWidgets": {},
     "nuid": "fb4e2d22-8764-43b9-8ee9-d6f1eb9ed465",
     "showTitle": false,
     "title": ""
    }
   },
   "outputs": [
    {
     "output_type": "display_data",
     "data": {
      "text/html": [
       "<div>\n",
       "<style scoped>\n",
       "    .dataframe tbody tr th:only-of-type {\n",
       "        vertical-align: middle;\n",
       "    }\n",
       "\n",
       "    .dataframe tbody tr th {\n",
       "        vertical-align: top;\n",
       "    }\n",
       "\n",
       "    .dataframe thead th {\n",
       "        text-align: right;\n",
       "    }\n",
       "</style>\n",
       "<table border=\"1\" class=\"dataframe\">\n",
       "  <thead>\n",
       "    <tr style=\"text-align: right;\">\n",
       "      <th></th>\n",
       "      <th>Pregnancies</th>\n",
       "      <th>Glucose</th>\n",
       "      <th>BloodPressure</th>\n",
       "      <th>SkinThickness</th>\n",
       "      <th>Insulin</th>\n",
       "      <th>BMI</th>\n",
       "      <th>DiabetesPedigreeFunction</th>\n",
       "      <th>Age</th>\n",
       "      <th>Outcome</th>\n",
       "    </tr>\n",
       "  </thead>\n",
       "  <tbody>\n",
       "    <tr>\n",
       "      <th>0</th>\n",
       "      <td>6</td>\n",
       "      <td>148</td>\n",
       "      <td>72</td>\n",
       "      <td>35</td>\n",
       "      <td>0</td>\n",
       "      <td>33.6</td>\n",
       "      <td>0.627</td>\n",
       "      <td>50</td>\n",
       "      <td>1</td>\n",
       "    </tr>\n",
       "    <tr>\n",
       "      <th>1</th>\n",
       "      <td>1</td>\n",
       "      <td>85</td>\n",
       "      <td>66</td>\n",
       "      <td>29</td>\n",
       "      <td>0</td>\n",
       "      <td>26.6</td>\n",
       "      <td>0.351</td>\n",
       "      <td>31</td>\n",
       "      <td>0</td>\n",
       "    </tr>\n",
       "    <tr>\n",
       "      <th>2</th>\n",
       "      <td>8</td>\n",
       "      <td>183</td>\n",
       "      <td>64</td>\n",
       "      <td>0</td>\n",
       "      <td>0</td>\n",
       "      <td>23.3</td>\n",
       "      <td>0.672</td>\n",
       "      <td>32</td>\n",
       "      <td>1</td>\n",
       "    </tr>\n",
       "    <tr>\n",
       "      <th>3</th>\n",
       "      <td>1</td>\n",
       "      <td>89</td>\n",
       "      <td>66</td>\n",
       "      <td>23</td>\n",
       "      <td>94</td>\n",
       "      <td>28.1</td>\n",
       "      <td>0.167</td>\n",
       "      <td>21</td>\n",
       "      <td>0</td>\n",
       "    </tr>\n",
       "    <tr>\n",
       "      <th>4</th>\n",
       "      <td>0</td>\n",
       "      <td>137</td>\n",
       "      <td>40</td>\n",
       "      <td>35</td>\n",
       "      <td>168</td>\n",
       "      <td>43.1</td>\n",
       "      <td>2.288</td>\n",
       "      <td>33</td>\n",
       "      <td>1</td>\n",
       "    </tr>\n",
       "    <tr>\n",
       "      <th>5</th>\n",
       "      <td>5</td>\n",
       "      <td>116</td>\n",
       "      <td>74</td>\n",
       "      <td>0</td>\n",
       "      <td>0</td>\n",
       "      <td>25.6</td>\n",
       "      <td>0.201</td>\n",
       "      <td>30</td>\n",
       "      <td>0</td>\n",
       "    </tr>\n",
       "    <tr>\n",
       "      <th>6</th>\n",
       "      <td>3</td>\n",
       "      <td>78</td>\n",
       "      <td>50</td>\n",
       "      <td>32</td>\n",
       "      <td>88</td>\n",
       "      <td>31.0</td>\n",
       "      <td>0.248</td>\n",
       "      <td>26</td>\n",
       "      <td>1</td>\n",
       "    </tr>\n",
       "    <tr>\n",
       "      <th>7</th>\n",
       "      <td>10</td>\n",
       "      <td>115</td>\n",
       "      <td>0</td>\n",
       "      <td>0</td>\n",
       "      <td>0</td>\n",
       "      <td>35.3</td>\n",
       "      <td>0.134</td>\n",
       "      <td>29</td>\n",
       "      <td>0</td>\n",
       "    </tr>\n",
       "    <tr>\n",
       "      <th>8</th>\n",
       "      <td>2</td>\n",
       "      <td>197</td>\n",
       "      <td>70</td>\n",
       "      <td>45</td>\n",
       "      <td>543</td>\n",
       "      <td>30.5</td>\n",
       "      <td>0.158</td>\n",
       "      <td>53</td>\n",
       "      <td>1</td>\n",
       "    </tr>\n",
       "    <tr>\n",
       "      <th>9</th>\n",
       "      <td>8</td>\n",
       "      <td>125</td>\n",
       "      <td>96</td>\n",
       "      <td>0</td>\n",
       "      <td>0</td>\n",
       "      <td>0.0</td>\n",
       "      <td>0.232</td>\n",
       "      <td>54</td>\n",
       "      <td>1</td>\n",
       "    </tr>\n",
       "  </tbody>\n",
       "</table>\n",
       "</div>"
      ]
     },
     "metadata": {
      "application/vnd.databricks.v1+output": {
       "addedWidgets": {},
       "arguments": {},
       "data": "<div>\n<style scoped>\n    .dataframe tbody tr th:only-of-type {\n        vertical-align: middle;\n    }\n\n    .dataframe tbody tr th {\n        vertical-align: top;\n    }\n\n    .dataframe thead th {\n        text-align: right;\n    }\n</style>\n<table border=\"1\" class=\"dataframe\">\n  <thead>\n    <tr style=\"text-align: right;\">\n      <th></th>\n      <th>Pregnancies</th>\n      <th>Glucose</th>\n      <th>BloodPressure</th>\n      <th>SkinThickness</th>\n      <th>Insulin</th>\n      <th>BMI</th>\n      <th>DiabetesPedigreeFunction</th>\n      <th>Age</th>\n      <th>Outcome</th>\n    </tr>\n  </thead>\n  <tbody>\n    <tr>\n      <th>0</th>\n      <td>6</td>\n      <td>148</td>\n      <td>72</td>\n      <td>35</td>\n      <td>0</td>\n      <td>33.6</td>\n      <td>0.627</td>\n      <td>50</td>\n      <td>1</td>\n    </tr>\n    <tr>\n      <th>1</th>\n      <td>1</td>\n      <td>85</td>\n      <td>66</td>\n      <td>29</td>\n      <td>0</td>\n      <td>26.6</td>\n      <td>0.351</td>\n      <td>31</td>\n      <td>0</td>\n    </tr>\n    <tr>\n      <th>2</th>\n      <td>8</td>\n      <td>183</td>\n      <td>64</td>\n      <td>0</td>\n      <td>0</td>\n      <td>23.3</td>\n      <td>0.672</td>\n      <td>32</td>\n      <td>1</td>\n    </tr>\n    <tr>\n      <th>3</th>\n      <td>1</td>\n      <td>89</td>\n      <td>66</td>\n      <td>23</td>\n      <td>94</td>\n      <td>28.1</td>\n      <td>0.167</td>\n      <td>21</td>\n      <td>0</td>\n    </tr>\n    <tr>\n      <th>4</th>\n      <td>0</td>\n      <td>137</td>\n      <td>40</td>\n      <td>35</td>\n      <td>168</td>\n      <td>43.1</td>\n      <td>2.288</td>\n      <td>33</td>\n      <td>1</td>\n    </tr>\n    <tr>\n      <th>5</th>\n      <td>5</td>\n      <td>116</td>\n      <td>74</td>\n      <td>0</td>\n      <td>0</td>\n      <td>25.6</td>\n      <td>0.201</td>\n      <td>30</td>\n      <td>0</td>\n    </tr>\n    <tr>\n      <th>6</th>\n      <td>3</td>\n      <td>78</td>\n      <td>50</td>\n      <td>32</td>\n      <td>88</td>\n      <td>31.0</td>\n      <td>0.248</td>\n      <td>26</td>\n      <td>1</td>\n    </tr>\n    <tr>\n      <th>7</th>\n      <td>10</td>\n      <td>115</td>\n      <td>0</td>\n      <td>0</td>\n      <td>0</td>\n      <td>35.3</td>\n      <td>0.134</td>\n      <td>29</td>\n      <td>0</td>\n    </tr>\n    <tr>\n      <th>8</th>\n      <td>2</td>\n      <td>197</td>\n      <td>70</td>\n      <td>45</td>\n      <td>543</td>\n      <td>30.5</td>\n      <td>0.158</td>\n      <td>53</td>\n      <td>1</td>\n    </tr>\n    <tr>\n      <th>9</th>\n      <td>8</td>\n      <td>125</td>\n      <td>96</td>\n      <td>0</td>\n      <td>0</td>\n      <td>0.0</td>\n      <td>0.232</td>\n      <td>54</td>\n      <td>1</td>\n    </tr>\n  </tbody>\n</table>\n</div>",
       "datasetInfos": [],
       "metadata": {},
       "removedWidgets": [],
       "textData": null,
       "type": "htmlSandbox"
      }
     },
     "output_type": "display_data"
    }
   ],
   "source": [
    "diabetesData.head(10)"
   ]
  },
  {
   "cell_type": "code",
   "execution_count": 0,
   "metadata": {
    "application/vnd.databricks.v1+cell": {
     "cellMetadata": {
      "byteLimit": 2048000,
      "rowLimit": 10000
     },
     "inputWidgets": {},
     "nuid": "050aac8f-f21b-4c2b-bd8f-f6c20bc53293",
     "showTitle": false,
     "title": ""
    }
   },
   "outputs": [
    {
     "output_type": "stream",
     "name": "stdout",
     "output_type": "stream",
     "text": [
      "Out[81]: 2"
     ]
    }
   ],
   "source": [
    "#number of data dimensionality\n",
    "diabetesData.ndim"
   ]
  },
  {
   "cell_type": "code",
   "execution_count": 0,
   "metadata": {
    "application/vnd.databricks.v1+cell": {
     "cellMetadata": {
      "byteLimit": 2048000,
      "rowLimit": 10000
     },
     "inputWidgets": {},
     "nuid": "a9bbcf99-f5e5-4436-85ea-e3b407e946bd",
     "showTitle": false,
     "title": ""
    }
   },
   "outputs": [
    {
     "output_type": "display_data",
     "data": {
      "text/html": [
       "<div>\n",
       "<style scoped>\n",
       "    .dataframe tbody tr th:only-of-type {\n",
       "        vertical-align: middle;\n",
       "    }\n",
       "\n",
       "    .dataframe tbody tr th {\n",
       "        vertical-align: top;\n",
       "    }\n",
       "\n",
       "    .dataframe thead th {\n",
       "        text-align: right;\n",
       "    }\n",
       "</style>\n",
       "<table border=\"1\" class=\"dataframe\">\n",
       "  <thead>\n",
       "    <tr style=\"text-align: right;\">\n",
       "      <th></th>\n",
       "      <th>count</th>\n",
       "      <th>mean</th>\n",
       "      <th>std</th>\n",
       "      <th>min</th>\n",
       "      <th>25%</th>\n",
       "      <th>50%</th>\n",
       "      <th>75%</th>\n",
       "      <th>max</th>\n",
       "    </tr>\n",
       "  </thead>\n",
       "  <tbody>\n",
       "    <tr>\n",
       "      <th>Pregnancies</th>\n",
       "      <td>768.0</td>\n",
       "      <td>3.845052</td>\n",
       "      <td>3.369578</td>\n",
       "      <td>0.000</td>\n",
       "      <td>1.00000</td>\n",
       "      <td>3.0000</td>\n",
       "      <td>6.00000</td>\n",
       "      <td>17.00</td>\n",
       "    </tr>\n",
       "    <tr>\n",
       "      <th>Glucose</th>\n",
       "      <td>768.0</td>\n",
       "      <td>120.894531</td>\n",
       "      <td>31.972618</td>\n",
       "      <td>0.000</td>\n",
       "      <td>99.00000</td>\n",
       "      <td>117.0000</td>\n",
       "      <td>140.25000</td>\n",
       "      <td>199.00</td>\n",
       "    </tr>\n",
       "    <tr>\n",
       "      <th>BloodPressure</th>\n",
       "      <td>768.0</td>\n",
       "      <td>69.105469</td>\n",
       "      <td>19.355807</td>\n",
       "      <td>0.000</td>\n",
       "      <td>62.00000</td>\n",
       "      <td>72.0000</td>\n",
       "      <td>80.00000</td>\n",
       "      <td>122.00</td>\n",
       "    </tr>\n",
       "    <tr>\n",
       "      <th>SkinThickness</th>\n",
       "      <td>768.0</td>\n",
       "      <td>20.536458</td>\n",
       "      <td>15.952218</td>\n",
       "      <td>0.000</td>\n",
       "      <td>0.00000</td>\n",
       "      <td>23.0000</td>\n",
       "      <td>32.00000</td>\n",
       "      <td>99.00</td>\n",
       "    </tr>\n",
       "    <tr>\n",
       "      <th>Insulin</th>\n",
       "      <td>768.0</td>\n",
       "      <td>79.799479</td>\n",
       "      <td>115.244002</td>\n",
       "      <td>0.000</td>\n",
       "      <td>0.00000</td>\n",
       "      <td>30.5000</td>\n",
       "      <td>127.25000</td>\n",
       "      <td>846.00</td>\n",
       "    </tr>\n",
       "    <tr>\n",
       "      <th>BMI</th>\n",
       "      <td>768.0</td>\n",
       "      <td>31.992578</td>\n",
       "      <td>7.884160</td>\n",
       "      <td>0.000</td>\n",
       "      <td>27.30000</td>\n",
       "      <td>32.0000</td>\n",
       "      <td>36.60000</td>\n",
       "      <td>67.10</td>\n",
       "    </tr>\n",
       "    <tr>\n",
       "      <th>DiabetesPedigreeFunction</th>\n",
       "      <td>768.0</td>\n",
       "      <td>0.471876</td>\n",
       "      <td>0.331329</td>\n",
       "      <td>0.078</td>\n",
       "      <td>0.24375</td>\n",
       "      <td>0.3725</td>\n",
       "      <td>0.62625</td>\n",
       "      <td>2.42</td>\n",
       "    </tr>\n",
       "    <tr>\n",
       "      <th>Age</th>\n",
       "      <td>768.0</td>\n",
       "      <td>33.240885</td>\n",
       "      <td>11.760232</td>\n",
       "      <td>21.000</td>\n",
       "      <td>24.00000</td>\n",
       "      <td>29.0000</td>\n",
       "      <td>41.00000</td>\n",
       "      <td>81.00</td>\n",
       "    </tr>\n",
       "    <tr>\n",
       "      <th>Outcome</th>\n",
       "      <td>768.0</td>\n",
       "      <td>0.348958</td>\n",
       "      <td>0.476951</td>\n",
       "      <td>0.000</td>\n",
       "      <td>0.00000</td>\n",
       "      <td>0.0000</td>\n",
       "      <td>1.00000</td>\n",
       "      <td>1.00</td>\n",
       "    </tr>\n",
       "  </tbody>\n",
       "</table>\n",
       "</div>"
      ]
     },
     "metadata": {
      "application/vnd.databricks.v1+output": {
       "addedWidgets": {},
       "arguments": {},
       "data": "<div>\n<style scoped>\n    .dataframe tbody tr th:only-of-type {\n        vertical-align: middle;\n    }\n\n    .dataframe tbody tr th {\n        vertical-align: top;\n    }\n\n    .dataframe thead th {\n        text-align: right;\n    }\n</style>\n<table border=\"1\" class=\"dataframe\">\n  <thead>\n    <tr style=\"text-align: right;\">\n      <th></th>\n      <th>count</th>\n      <th>mean</th>\n      <th>std</th>\n      <th>min</th>\n      <th>25%</th>\n      <th>50%</th>\n      <th>75%</th>\n      <th>max</th>\n    </tr>\n  </thead>\n  <tbody>\n    <tr>\n      <th>Pregnancies</th>\n      <td>768.0</td>\n      <td>3.845052</td>\n      <td>3.369578</td>\n      <td>0.000</td>\n      <td>1.00000</td>\n      <td>3.0000</td>\n      <td>6.00000</td>\n      <td>17.00</td>\n    </tr>\n    <tr>\n      <th>Glucose</th>\n      <td>768.0</td>\n      <td>120.894531</td>\n      <td>31.972618</td>\n      <td>0.000</td>\n      <td>99.00000</td>\n      <td>117.0000</td>\n      <td>140.25000</td>\n      <td>199.00</td>\n    </tr>\n    <tr>\n      <th>BloodPressure</th>\n      <td>768.0</td>\n      <td>69.105469</td>\n      <td>19.355807</td>\n      <td>0.000</td>\n      <td>62.00000</td>\n      <td>72.0000</td>\n      <td>80.00000</td>\n      <td>122.00</td>\n    </tr>\n    <tr>\n      <th>SkinThickness</th>\n      <td>768.0</td>\n      <td>20.536458</td>\n      <td>15.952218</td>\n      <td>0.000</td>\n      <td>0.00000</td>\n      <td>23.0000</td>\n      <td>32.00000</td>\n      <td>99.00</td>\n    </tr>\n    <tr>\n      <th>Insulin</th>\n      <td>768.0</td>\n      <td>79.799479</td>\n      <td>115.244002</td>\n      <td>0.000</td>\n      <td>0.00000</td>\n      <td>30.5000</td>\n      <td>127.25000</td>\n      <td>846.00</td>\n    </tr>\n    <tr>\n      <th>BMI</th>\n      <td>768.0</td>\n      <td>31.992578</td>\n      <td>7.884160</td>\n      <td>0.000</td>\n      <td>27.30000</td>\n      <td>32.0000</td>\n      <td>36.60000</td>\n      <td>67.10</td>\n    </tr>\n    <tr>\n      <th>DiabetesPedigreeFunction</th>\n      <td>768.0</td>\n      <td>0.471876</td>\n      <td>0.331329</td>\n      <td>0.078</td>\n      <td>0.24375</td>\n      <td>0.3725</td>\n      <td>0.62625</td>\n      <td>2.42</td>\n    </tr>\n    <tr>\n      <th>Age</th>\n      <td>768.0</td>\n      <td>33.240885</td>\n      <td>11.760232</td>\n      <td>21.000</td>\n      <td>24.00000</td>\n      <td>29.0000</td>\n      <td>41.00000</td>\n      <td>81.00</td>\n    </tr>\n    <tr>\n      <th>Outcome</th>\n      <td>768.0</td>\n      <td>0.348958</td>\n      <td>0.476951</td>\n      <td>0.000</td>\n      <td>0.00000</td>\n      <td>0.0000</td>\n      <td>1.00000</td>\n      <td>1.00</td>\n    </tr>\n  </tbody>\n</table>\n</div>",
       "datasetInfos": [],
       "metadata": {},
       "removedWidgets": [],
       "textData": null,
       "type": "htmlSandbox"
      }
     },
     "output_type": "display_data"
    }
   ],
   "source": [
    "diabetesData.describe().T"
   ]
  },
  {
   "cell_type": "code",
   "execution_count": 0,
   "metadata": {
    "application/vnd.databricks.v1+cell": {
     "cellMetadata": {
      "byteLimit": 2048000,
      "rowLimit": 10000
     },
     "inputWidgets": {},
     "nuid": "1008f102-4b2d-4957-8e63-7b41830a573f",
     "showTitle": false,
     "title": ""
    }
   },
   "outputs": [
    {
     "output_type": "stream",
     "name": "stdout",
     "output_type": "stream",
     "text": [
      "Out[83]: 6912"
     ]
    }
   ],
   "source": [
    "diabetesData.size"
   ]
  },
  {
   "cell_type": "markdown",
   "metadata": {
    "application/vnd.databricks.v1+cell": {
     "cellMetadata": {
      "byteLimit": 2048000,
      "rowLimit": 10000
     },
     "inputWidgets": {},
     "nuid": "f678438f-983e-4188-b557-6f659009e29e",
     "showTitle": false,
     "title": ""
    }
   },
   "source": [
    "## EDA Summary\n",
    "- dataset has (768, 9) dimension - sizes\n",
    "- this dataset size is 6912\n",
    "- it has int and float datatype\n",
    "- there is no missing value\n",
    "- dependent value = Outcome, Length: 768, dtype: int32>"
   ]
  },
  {
   "cell_type": "markdown",
   "metadata": {
    "application/vnd.databricks.v1+cell": {
     "cellMetadata": {
      "byteLimit": 2048000,
      "rowLimit": 10000
     },
     "inputWidgets": {},
     "nuid": "dbbc9d1e-750e-4dd0-ab22-1ee2e373397a",
     "showTitle": false,
     "title": ""
    }
   },
   "source": [
    "## Data Pre-processing"
   ]
  },
  {
   "cell_type": "code",
   "execution_count": 0,
   "metadata": {
    "application/vnd.databricks.v1+cell": {
     "cellMetadata": {
      "byteLimit": 2048000,
      "rowLimit": 10000
     },
     "inputWidgets": {},
     "nuid": "35f3853f-7f31-43f6-9d81-f48412412a0c",
     "showTitle": false,
     "title": ""
    }
   },
   "outputs": [
    {
     "output_type": "stream",
     "name": "stdout",
     "output_type": "stream",
     "text": [
      "Out[84]: Pregnancies                 0\nGlucose                     0\nBloodPressure               0\nSkinThickness               0\nInsulin                     0\nBMI                         0\nDiabetesPedigreeFunction    0\nAge                         0\nOutcome                     0\ndtype: int64"
     ]
    }
   ],
   "source": [
    "#there is no missing \n",
    "diabetesData.isnull().sum()"
   ]
  },
  {
   "cell_type": "markdown",
   "metadata": {
    "application/vnd.databricks.v1+cell": {
     "cellMetadata": {},
     "inputWidgets": {},
     "nuid": "53bb647a-63f3-401e-8c49-d7490011d727",
     "showTitle": false,
     "title": ""
    }
   },
   "source": [
    "## Observation\n",
    "there is no missig value in this dataset and all variables are int and float"
   ]
  },
  {
   "cell_type": "markdown",
   "metadata": {
    "application/vnd.databricks.v1+cell": {
     "cellMetadata": {
      "byteLimit": 2048000,
      "rowLimit": 10000
     },
     "inputWidgets": {},
     "nuid": "c3fbbefa-2881-44f4-b665-938fe434afa6",
     "showTitle": false,
     "title": ""
    }
   },
   "source": [
    "## Model Building"
   ]
  },
  {
   "cell_type": "markdown",
   "metadata": {
    "application/vnd.databricks.v1+cell": {
     "cellMetadata": {
      "byteLimit": 2048000,
      "rowLimit": 10000
     },
     "inputWidgets": {},
     "nuid": "dfa5253b-d511-43a9-8ff5-614033ea49ce",
     "showTitle": false,
     "title": ""
    }
   },
   "source": [
    "### Defining x and y "
   ]
  },
  {
   "cell_type": "code",
   "execution_count": 0,
   "metadata": {
    "application/vnd.databricks.v1+cell": {
     "cellMetadata": {
      "byteLimit": 2048000,
      "rowLimit": 10000
     },
     "inputWidgets": {},
     "nuid": "f8bf2eeb-4648-4c14-bff7-3ae39ab515d1",
     "showTitle": false,
     "title": ""
    }
   },
   "outputs": [
    {
     "output_type": "stream",
     "name": "stdout",
     "output_type": "stream",
     "text": [
      "<class 'pandas.core.frame.DataFrame'>\nRangeIndex: 768 entries, 0 to 767\nData columns (total 9 columns):\n #   Column                    Non-Null Count  Dtype  \n---  ------                    --------------  -----  \n 0   Pregnancies               768 non-null    int32  \n 1   Glucose                   768 non-null    int32  \n 2   BloodPressure             768 non-null    int32  \n 3   SkinThickness             768 non-null    int32  \n 4   Insulin                   768 non-null    int32  \n 5   BMI                       768 non-null    float64\n 6   DiabetesPedigreeFunction  768 non-null    float64\n 7   Age                       768 non-null    int32  \n 8   Outcome                   768 non-null    int32  \ndtypes: float64(2), int32(7)\nmemory usage: 33.1 KB\n"
     ]
    }
   ],
   "source": [
    "diabetesData.info()"
   ]
  },
  {
   "cell_type": "code",
   "execution_count": 0,
   "metadata": {
    "application/vnd.databricks.v1+cell": {
     "cellMetadata": {
      "byteLimit": 2048000,
      "rowLimit": 10000
     },
     "inputWidgets": {},
     "nuid": "60396c81-34de-4b47-8f40-53aaa64b187b",
     "showTitle": false,
     "title": ""
    }
   },
   "outputs": [],
   "source": [
    "X = diabetesData.drop(\"Outcome\", axis=1)\n",
    "X = pd.get_dummies(X, drop_first=True)\n",
    "y = diabetesData.pop(\"Outcome\")"
   ]
  },
  {
   "cell_type": "code",
   "execution_count": 0,
   "metadata": {
    "application/vnd.databricks.v1+cell": {
     "cellMetadata": {
      "byteLimit": 2048000,
      "rowLimit": 10000
     },
     "inputWidgets": {},
     "nuid": "94f477b8-5f9e-4950-a07b-f44c190b7672",
     "showTitle": false,
     "title": ""
    }
   },
   "outputs": [
    {
     "output_type": "stream",
     "name": "stdout",
     "output_type": "stream",
     "text": [
      "<class 'pandas.core.frame.DataFrame'>\nRangeIndex: 768 entries, 0 to 767\nData columns (total 8 columns):\n #   Column                    Non-Null Count  Dtype  \n---  ------                    --------------  -----  \n 0   Pregnancies               768 non-null    int32  \n 1   Glucose                   768 non-null    int32  \n 2   BloodPressure             768 non-null    int32  \n 3   SkinThickness             768 non-null    int32  \n 4   Insulin                   768 non-null    int32  \n 5   BMI                       768 non-null    float64\n 6   DiabetesPedigreeFunction  768 non-null    float64\n 7   Age                       768 non-null    int32  \ndtypes: float64(2), int32(6)\nmemory usage: 30.1 KB\n"
     ]
    }
   ],
   "source": [
    "X.info()"
   ]
  },
  {
   "cell_type": "code",
   "execution_count": 0,
   "metadata": {
    "application/vnd.databricks.v1+cell": {
     "cellMetadata": {
      "byteLimit": 2048000,
      "rowLimit": 10000
     },
     "inputWidgets": {},
     "nuid": "b775735b-ea96-46ff-9ca2-4c8e6bcae3a5",
     "showTitle": false,
     "title": ""
    }
   },
   "outputs": [
    {
     "output_type": "stream",
     "name": "stdout",
     "output_type": "stream",
     "text": [
      "Out[93]: (768, 8)"
     ]
    }
   ],
   "source": [
    "X.shape"
   ]
  },
  {
   "cell_type": "markdown",
   "metadata": {
    "application/vnd.databricks.v1+cell": {
     "cellMetadata": {},
     "inputWidgets": {},
     "nuid": "035a282a-99f0-4cbe-a60a-1e0fb2b61560",
     "showTitle": false,
     "title": ""
    }
   },
   "source": [
    "## Split Data\n"
   ]
  },
  {
   "cell_type": "code",
   "execution_count": 0,
   "metadata": {
    "application/vnd.databricks.v1+cell": {
     "cellMetadata": {
      "byteLimit": 2048000,
      "rowLimit": 10000
     },
     "inputWidgets": {},
     "nuid": "d6ac578e-cad4-40ee-8c34-84bb67d12fab",
     "showTitle": false,
     "title": ""
    }
   },
   "outputs": [],
   "source": [
    "X_train, X_test, y_train, y_test = train_test_split(X, y, test_size=.30, random_state=1,stratify=y)\n"
   ]
  },
  {
   "cell_type": "code",
   "execution_count": 0,
   "metadata": {
    "application/vnd.databricks.v1+cell": {
     "cellMetadata": {
      "byteLimit": 2048000,
      "rowLimit": 10000
     },
     "inputWidgets": {},
     "nuid": "484c85a0-2aa9-4763-b845-0c6bd3988e57",
     "showTitle": false,
     "title": ""
    }
   },
   "outputs": [],
   "source": [
    "## Function to create confusion matrix\n",
    "def make_confusion_matrix(model,y_actual,labels=[1, 0]):\n",
    "    '''\n",
    "    model : classifier to predict values of X\n",
    "    y_actual : ground truth  \n",
    "    \n",
    "    '''\n",
    "    y_predict = model.predict(X_test)\n",
    "    cm=metrics.confusion_matrix( y_actual, y_predict, labels=[0, 1])\n",
    "    df_cm = pd.DataFrame(cm, index = [i for i in [\"Actual - No\",\"Actual - Yes\"]],\n",
    "                  columns = [i for i in ['Predicted - No','Predicted - Yes']])\n",
    "    group_counts = [\"{0:0.0f}\".format(value) for value in\n",
    "                cm.flatten()]\n",
    "    group_percentages = [\"{0:.2%}\".format(value) for value in\n",
    "                         cm.flatten()/np.sum(cm)]\n",
    "    labels = [f\"{v1}\\n{v2}\" for v1, v2 in\n",
    "              zip(group_counts,group_percentages)]\n",
    "    labels = np.asarray(labels).reshape(2,2)\n",
    "    plt.figure(figsize = (10,7))\n",
    "    sns.heatmap(df_cm, annot=labels,fmt='')\n",
    "    plt.ylabel('True label')\n",
    "    plt.xlabel('Predicted label')"
   ]
  },
  {
   "cell_type": "code",
   "execution_count": 0,
   "metadata": {
    "application/vnd.databricks.v1+cell": {
     "cellMetadata": {
      "byteLimit": 2048000,
      "rowLimit": 10000
     },
     "inputWidgets": {},
     "nuid": "28b1a098-8b82-48ed-b66e-449b99737daf",
     "showTitle": false,
     "title": ""
    }
   },
   "outputs": [],
   "source": [
    "##  Function to calculate different metric scores of the model - Accuracy, Recall and Precision\n",
    "def get_metrics_score(model,flag=True):\n",
    "    '''\n",
    "    model : classifier to predict values of X\n",
    " \n",
    "    '''\n",
    "    # defining an empty list to store train and test results\n",
    "    score_list=[] \n",
    "    \n",
    "    pred_train = model.predict(X_train)\n",
    "    pred_test = model.predict(X_test)\n",
    "    \n",
    "    train_acc = model.score(X_train,y_train)\n",
    "    test_acc = model.score(X_test,y_test)\n",
    "    \n",
    "    train_recall = metrics.recall_score(y_train,pred_train)\n",
    "    test_recall = metrics.recall_score(y_test,pred_test)\n",
    "    \n",
    "    train_precision = metrics.precision_score(y_train,pred_train)\n",
    "    test_precision = metrics.precision_score(y_test,pred_test)\n",
    "    \n",
    "    score_list.extend((train_acc,test_acc,train_recall,test_recall,train_precision,test_precision))\n",
    "        \n",
    "    # If the flag is set to True then only the following print statements will be dispayed. The default value is set to True.\n",
    "    if flag == True: \n",
    "        print(\"Accuracy on training set : \",model.score(X_train,y_train))\n",
    "        print(\"Accuracy on test set : \",model.score(X_test,y_test))\n",
    "        print(\"Recall on training set : \",metrics.recall_score(y_train,pred_train))\n",
    "        print(\"Recall on test set : \",metrics.recall_score(y_test,pred_test))\n",
    "        print(\"Precision on training set : \",metrics.precision_score(y_train,pred_train))\n",
    "        print(\"Precision on test set : \",metrics.precision_score(y_test,pred_test))\n",
    "    \n",
    "    return score_list # returning the list with train and test scores"
   ]
  },
  {
   "cell_type": "markdown",
   "metadata": {
    "application/vnd.databricks.v1+cell": {
     "cellMetadata": {},
     "inputWidgets": {},
     "nuid": "4fb34999-64a6-40f0-b840-b29133db85d4",
     "showTitle": false,
     "title": ""
    }
   },
   "source": [
    "## Building the models:\n",
    " AdaBoost Classifier and Gradient Boosting Classifier"
   ]
  },
  {
   "cell_type": "markdown",
   "metadata": {
    "application/vnd.databricks.v1+cell": {
     "cellMetadata": {},
     "inputWidgets": {},
     "nuid": "94f32744-c7cd-402c-a5b6-ec7a44891a66",
     "showTitle": false,
     "title": ""
    }
   },
   "source": [
    "### AdaBoost Classifier"
   ]
  },
  {
   "cell_type": "code",
   "execution_count": 0,
   "metadata": {
    "application/vnd.databricks.v1+cell": {
     "cellMetadata": {
      "byteLimit": 2048000,
      "rowLimit": 10000
     },
     "inputWidgets": {},
     "nuid": "d6adc2d5-4cfe-4724-ba07-85c63c663c6f",
     "showTitle": false,
     "title": ""
    }
   },
   "outputs": [],
   "source": [
    "abc = AdaBoostClassifier(random_state=1)\n",
    "abc.fit(X_train,y_train)\n",
    "Out[66]: AdaBoostClassifier(random_state=1)"
   ]
  },
  {
   "cell_type": "code",
   "execution_count": 0,
   "metadata": {
    "application/vnd.databricks.v1+cell": {
     "cellMetadata": {
      "byteLimit": 2048000,
      "rowLimit": 10000
     },
     "inputWidgets": {},
     "nuid": "cb9effa0-3f37-462e-971b-58ec4ee3e49c",
     "showTitle": false,
     "title": ""
    }
   },
   "outputs": [
    {
     "output_type": "stream",
     "name": "stdout",
     "output_type": "stream",
     "text": [
      "Accuracy on training set :  0.8435754189944135\nAccuracy on test set :  0.7575757575757576\nRecall on training set :  0.7540106951871658\nRecall on test set :  0.5925925925925926\nPrecision on training set :  0.7877094972067039\nPrecision on test set :  0.676056338028169\n"
     ]
    }
   ],
   "source": [
    "#Using above defined function to get accuracy, recall and precision on train and test set\n",
    "abc_score=get_metrics_score(abc)"
   ]
  },
  {
   "cell_type": "code",
   "execution_count": 0,
   "metadata": {
    "application/vnd.databricks.v1+cell": {
     "cellMetadata": {
      "byteLimit": 2048000,
      "rowLimit": 10000
     },
     "inputWidgets": {},
     "nuid": "544e1e2e-3065-4815-aef8-7b3fd883caa5",
     "showTitle": false,
     "title": ""
    }
   },
   "outputs": [
    {
     "output_type": "display_data",
     "data": {
      "image/png": "[encoded data removed]"
     },
     "metadata": {
      "application/vnd.databricks.v1+output": {
       "addedWidgets": {},
       "arguments": {},
       "data": "data:image/png;base64,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\n",
       "datasetInfos": [],
       "metadata": {},
       "removedWidgets": [],
       "type": "image"
      }
     },
     "output_type": "display_data"
    }
   ],
   "source": [
    "make_confusion_matrix(abc,y_test)"
   ]
  },
  {
   "cell_type": "markdown",
   "metadata": {
    "application/vnd.databricks.v1+cell": {
     "cellMetadata": {},
     "inputWidgets": {},
     "nuid": "d8d38e39-99bd-47ed-bf3c-333d59a1c196",
     "showTitle": false,
     "title": ""
    }
   },
   "source": [
    "### Gradient Boosting Classifier\n"
   ]
  },
  {
   "cell_type": "code",
   "execution_count": 0,
   "metadata": {
    "application/vnd.databricks.v1+cell": {
     "cellMetadata": {
      "byteLimit": 2048000,
      "rowLimit": 10000
     },
     "inputWidgets": {},
     "nuid": "678f5b51-ada1-470a-8ff3-976221e0eab3",
     "showTitle": false,
     "title": ""
    }
   },
   "outputs": [
    {
     "output_type": "stream",
     "name": "stdout",
     "output_type": "stream",
     "text": [
      "Out[101]: GradientBoostingClassifier(random_state=1)"
     ]
    }
   ],
   "source": [
    "gbc = GradientBoostingClassifier(random_state=1)\n",
    "gbc.fit(X_train,y_train)"
   ]
  },
  {
   "cell_type": "code",
   "execution_count": 0,
   "metadata": {
    "application/vnd.databricks.v1+cell": {
     "cellMetadata": {
      "byteLimit": 2048000,
      "rowLimit": 10000
     },
     "inputWidgets": {},
     "nuid": "49376e58-325c-4de6-8365-8e5deba34b44",
     "showTitle": false,
     "title": ""
    }
   },
   "outputs": [
    {
     "output_type": "stream",
     "name": "stdout",
     "output_type": "stream",
     "text": [
      "Accuracy on training set :  0.9385474860335196\nAccuracy on test set :  0.7229437229437229\nRecall on training set :  0.8823529411764706\nRecall on test set :  0.49382716049382713\nPrecision on training set :  0.9375\nPrecision on test set :  0.6349206349206349\n"
     ]
    }
   ],
   "source": [
    "#Using above defined function to get accuracy, recall and precision on train and test set\n",
    "gbc_score=get_metrics_score(gbc)"
   ]
  },
  {
   "cell_type": "code",
   "execution_count": 0,
   "metadata": {
    "application/vnd.databricks.v1+cell": {
     "cellMetadata": {
      "byteLimit": 2048000,
      "rowLimit": 10000
     },
     "inputWidgets": {},
     "nuid": "eec0135b-e95a-4a4d-bef1-3344d481d773",
     "showTitle": false,
     "title": ""
    }
   },
   "outputs": [
    {
     "output_type": "display_data",
     "data": {
      "image/png": "[encoded data removed]"
     },
     "metadata": {
      "application/vnd.databricks.v1+output": {
       "addedWidgets": {},
       "arguments": {},
       "data": "data:image/png;base64,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\n",
       "datasetInfos": [],
       "metadata": {},
       "removedWidgets": [],
       "type": "image"
      }
     },
     "output_type": "display_data"
    }
   ],
   "source": [
    "make_confusion_matrix(gbc,y_test)"
   ]
  },
  {
   "cell_type": "markdown",
   "metadata": {
    "application/vnd.databricks.v1+cell": {
     "cellMetadata": {},
     "inputWidgets": {},
     "nuid": "ecbbd229-a628-40be-9ecf-ecaa9fe8a9f2",
     "showTitle": false,
     "title": ""
    }
   },
   "source": [
    "### Evaluation Models\n",
    "- Accuracy: The Adaboost Classifier has higher accuracy on both the training and test sets compared to the Gradient Boosting Classifier.\n",
    "- Precision: The Adaboost Classifier has higher precision on both the training and test sets compared to the Gradient Boosting Classifier. This indicates that the Adaboost Classifier makes fewer false positive predictions.\n",
    "- Recall: The Adaboost Classifier has higher recall on both the training and test sets compared to the Gradient Boosting Classifier. This indicates that the Adaboost Classifier captures a higher proportion of positive instances.\n",
    "- Based on these observations, if our goal is to minimize false positives (maximize precision) while capturing as many positive instances as possible (maximize recall), we should prioritize maximizing precision and recall. In this case, the Adaboost Classifier has perform better as it achieves higher precision and recall on both the training and test sets compared to the Gradient Boosting Classifier."
   ]
  },
  {
   "cell_type": "markdown",
   "metadata": {
    "application/vnd.databricks.v1+cell": {
     "cellMetadata": {},
     "inputWidgets": {},
     "nuid": "99e64d95-4b6b-4dd6-bac2-83fe91cc4f66",
     "showTitle": false,
     "title": ""
    }
   },
   "source": [
    "## Hyperparameter Tuning\n",
    "### AdaBoost Classifier"
   ]
  },
  {
   "cell_type": "code",
   "execution_count": 0,
   "metadata": {
    "application/vnd.databricks.v1+cell": {
     "cellMetadata": {
      "byteLimit": 2048000,
      "rowLimit": 10000
     },
     "inputWidgets": {},
     "nuid": "548edcc5-de49-4603-a5aa-9573f017f15f",
     "showTitle": false,
     "title": ""
    }
   },
   "outputs": [
    {
     "output_type": "stream",
     "name": "stdout",
     "output_type": "stream",
     "text": [
      "Out[104]: AdaBoostClassifier(base_estimator=DecisionTreeClassifier(max_depth=1),\n                   learning_rate=1.9000000000000001, n_estimators=10,\n                   random_state=1)"
     ]
    }
   ],
   "source": [
    "# Choose the type of classifier. \n",
    "abc_tuned = AdaBoostClassifier(random_state=1)\n",
    " \n",
    "# Grid of parameters to choose from\n",
    "## add from article\n",
    "parameters = {\n",
    "    #Let's try different max_depth for base_estimator\n",
    "    \"base_estimator\":[DecisionTreeClassifier(max_depth=1),DecisionTreeClassifier(max_depth=2),DecisionTreeClassifier(max_depth=3)],\n",
    "    \"n_estimators\": np.arange(10,110,10),\n",
    "    \"learning_rate\":np.arange(0.1,2,0.1)\n",
    "}\n",
    " \n",
    "# Type of scoring used to compare parameter combinations\n",
    "acc_scorer = metrics.make_scorer(metrics.recall_score)\n",
    " \n",
    "# Run the grid search\n",
    "grid_obj = GridSearchCV(abc_tuned, parameters, scoring=acc_scorer,cv=5)\n",
    "grid_obj = grid_obj.fit(X_train, y_train)\n",
    " \n",
    "# Set the clf to the best combination of parameters\n",
    "abc_tuned = grid_obj.best_estimator_\n",
    " \n",
    "# Fit the best algorithm to the data.\n",
    "abc_tuned.fit(X_train, y_train)"
   ]
  },
  {
   "cell_type": "code",
   "execution_count": 0,
   "metadata": {
    "application/vnd.databricks.v1+cell": {
     "cellMetadata": {
      "byteLimit": 2048000,
      "rowLimit": 10000
     },
     "inputWidgets": {},
     "nuid": "86574ef7-0c55-47cb-9cbb-7b49535b2e97",
     "showTitle": false,
     "title": ""
    }
   },
   "outputs": [
    {
     "output_type": "stream",
     "name": "stdout",
     "output_type": "stream",
     "text": [
      "Accuracy on training set :  0.7057728119180633\nAccuracy on test set :  0.6753246753246753\nRecall on training set :  0.839572192513369\nRecall on test set :  0.7901234567901234\nPrecision on training set :  0.5508771929824562\nPrecision on test set :  0.5245901639344263\n"
     ]
    }
   ],
   "source": [
    "#Using above defined function to get accuracy, recall and precision on train and test set\n",
    "abc_tuned_score=get_metrics_score(abc_tuned)"
   ]
  },
  {
   "cell_type": "code",
   "execution_count": 0,
   "metadata": {
    "application/vnd.databricks.v1+cell": {
     "cellMetadata": {
      "byteLimit": 2048000,
      "rowLimit": 10000
     },
     "inputWidgets": {},
     "nuid": "b61c8cbe-2b62-4cf3-9950-0eb9adb8c5f7",
     "showTitle": false,
     "title": ""
    }
   },
   "outputs": [
    {
     "output_type": "display_data",
     "data": {
      "image/png": "[encoded data removed]"
     },
     "metadata": {
      "application/vnd.databricks.v1+output": {
       "addedWidgets": {},
       "arguments": {},
       "data": "data:image/png;base64,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\n",
       "datasetInfos": [],
       "metadata": {},
       "removedWidgets": [],
       "type": "image"
      }
     },
     "output_type": "display_data"
    }
   ],
   "source": [
    "importances = abc_tuned.feature_importances_\n",
    "indices = np.argsort(importances)\n",
    "feature_names = list(X.columns)\n",
    " \n",
    "plt.figure(figsize=(12,12))\n",
    "plt.title('Feature Importances')\n",
    "plt.barh(range(len(indices)), importances[indices], color='violet', align='center')\n",
    "plt.yticks(range(len(indices)), [feature_names[i] for i in indices])\n",
    "plt.xlabel('Relative Importance')\n",
    "plt.show()"
   ]
  },
  {
   "cell_type": "markdown",
   "metadata": {
    "application/vnd.databricks.v1+cell": {
     "cellMetadata": {},
     "inputWidgets": {},
     "nuid": "7839f6d6-7a10-44c0-bec7-4ab145f9f0ae",
     "showTitle": false,
     "title": ""
    }
   },
   "source": [
    "### Gradient Boosting Classifier"
   ]
  },
  {
   "cell_type": "code",
   "execution_count": 0,
   "metadata": {
    "application/vnd.databricks.v1+cell": {
     "cellMetadata": {
      "byteLimit": 2048000,
      "rowLimit": 10000
     },
     "inputWidgets": {},
     "nuid": "1b231557-e5c6-43e1-b394-7e1b6ceb70ff",
     "showTitle": false,
     "title": ""
    }
   },
   "outputs": [
    {
     "output_type": "stream",
     "name": "stdout",
     "output_type": "stream",
     "text": [
      "Out[108]: GradientBoostingClassifier(init=AdaBoostClassifier(random_state=1),\n                           random_state=1)"
     ]
    }
   ],
   "source": [
    "gbc_init = GradientBoostingClassifier(init=AdaBoostClassifier(random_state=1),random_state=1)\n",
    "gbc_init.fit(X_train,y_train)"
   ]
  },
  {
   "cell_type": "code",
   "execution_count": 0,
   "metadata": {
    "application/vnd.databricks.v1+cell": {
     "cellMetadata": {
      "byteLimit": 2048000,
      "rowLimit": 10000
     },
     "inputWidgets": {},
     "nuid": "514f00fa-78aa-436f-882d-ebca59bc5e4b",
     "showTitle": false,
     "title": ""
    }
   },
   "outputs": [
    {
     "output_type": "stream",
     "name": "stdout",
     "output_type": "stream",
     "text": [
      "Out[110]: GradientBoostingClassifier(init=AdaBoostClassifier(random_state=1),\n                           max_features=0.9, n_estimators=150, random_state=1,\n                           subsample=1)"
     ]
    }
   ],
   "source": [
    "# Choose the type of classifier. \n",
    "gbc_tuned = GradientBoostingClassifier(init=AdaBoostClassifier(random_state=1),random_state=1)\n",
    " \n",
    "# Grid of parameters to choose from\n",
    "## add from article\n",
    "parameters = {\n",
    "    \"n_estimators\": [100,150,200,250],\n",
    "    \"subsample\":[0.8,0.9,1],\n",
    "    \"max_features\":[0.7,0.8,0.9,1]\n",
    "}\n",
    " \n",
    "# Type of scoring used to compare parameter combinations\n",
    "acc_scorer = metrics.make_scorer(metrics.recall_score)\n",
    " \n",
    "# Run the grid search\n",
    "grid_obj = GridSearchCV(gbc_tuned, parameters, scoring=acc_scorer,cv=5)\n",
    "grid_obj = grid_obj.fit(X_train, y_train)\n",
    " \n",
    "# Set the clf to the best combination of parameters\n",
    "gbc_tuned = grid_obj.best_estimator_\n",
    " \n",
    "# Fit the best algorithm to the data.\n",
    "gbc_tuned.fit(X_train, y_train)"
   ]
  },
  {
   "cell_type": "code",
   "execution_count": 0,
   "metadata": {
    "application/vnd.databricks.v1+cell": {
     "cellMetadata": {
      "byteLimit": 2048000,
      "rowLimit": 10000
     },
     "inputWidgets": {},
     "nuid": "10a8d906-b34d-40e6-862d-4026a86555ad",
     "showTitle": false,
     "title": ""
    }
   },
   "outputs": [
    {
     "output_type": "stream",
     "name": "stdout",
     "output_type": "stream",
     "text": [
      "Accuracy on training set :  0.9683426443202979\nAccuracy on test set :  0.7272727272727273\nRecall on training set :  0.93048128342246\nRecall on test set :  0.5061728395061729\nPrecision on training set :  0.9775280898876404\nPrecision on test set :  0.640625\n"
     ]
    }
   ],
   "source": [
    "#Using above defined function to get accuracy, recall and precision on train and test set\n",
    "gbc_tuned_score=get_metrics_score(gbc_tuned)"
   ]
  },
  {
   "cell_type": "code",
   "execution_count": 0,
   "metadata": {
    "application/vnd.databricks.v1+cell": {
     "cellMetadata": {
      "byteLimit": 2048000,
      "rowLimit": 10000
     },
     "inputWidgets": {},
     "nuid": "18ba8870-1b19-440a-8c20-815affc46607",
     "showTitle": false,
     "title": ""
    }
   },
   "outputs": [
    {
     "output_type": "display_data",
     "data": {
      "image/png": "[encoded data removed]"
     },
     "metadata": {
      "application/vnd.databricks.v1+output": {
       "addedWidgets": {},
       "arguments": {},
       "data": "data:image/png;base64,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\n",
       "datasetInfos": [],
       "metadata": {},
       "removedWidgets": [],
       "type": "image"
      }
     },
     "output_type": "display_data"
    }
   ],
   "source": [
    "make_confusion_matrix(gbc_tuned,y_test)"
   ]
  },
  {
   "cell_type": "code",
   "execution_count": 0,
   "metadata": {
    "application/vnd.databricks.v1+cell": {
     "cellMetadata": {
      "byteLimit": 2048000,
      "rowLimit": 10000
     },
     "inputWidgets": {},
     "nuid": "648713f1-9c0b-4540-88ea-f62fbf4dfd62",
     "showTitle": false,
     "title": ""
    }
   },
   "outputs": [
    {
     "output_type": "display_data",
     "data": {
      "image/png": "[encoded data removed]"
     },
     "metadata": {
      "application/vnd.databricks.v1+output": {
       "addedWidgets": {},
       "arguments": {},
       "data": "data:image/png;base64,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\n",
       "datasetInfos": [],
       "metadata": {},
       "removedWidgets": [],
       "type": "image"
      }
     },
     "output_type": "display_data"
    }
   ],
   "source": [
    "importances = gbc_tuned.feature_importances_\n",
    "indices = np.argsort(importances)\n",
    "feature_names = list(X.columns)\n",
    " \n",
    "plt.figure(figsize=(12,12))\n",
    "plt.title('Feature Importances')\n",
    "plt.barh(range(len(indices)), importances[indices], color='violet', align='center')\n",
    "plt.yticks(range(len(indices)), [feature_names[i] for i in indices])\n",
    "plt.xlabel('Relative Importance')\n",
    "plt.show()"
   ]
  },
  {
   "cell_type": "markdown",
   "metadata": {
    "application/vnd.databricks.v1+cell": {
     "cellMetadata": {},
     "inputWidgets": {},
     "nuid": "3638b124-e578-45e7-8879-51c4c7ed92cf",
     "showTitle": false,
     "title": ""
    }
   },
   "source": [
    "## Comparing all models"
   ]
  },
  {
   "cell_type": "code",
   "execution_count": 0,
   "metadata": {
    "application/vnd.databricks.v1+cell": {
     "cellMetadata": {
      "byteLimit": 2048000,
      "rowLimit": 10000
     },
     "inputWidgets": {},
     "nuid": "a90adac1-5e86-4c04-9289-aad9916a654f",
     "showTitle": false,
     "title": ""
    }
   },
   "outputs": [],
   "source": [
    "# defining list of models\n",
    "models = [abc, abc_tuned, gbc, gbc_init, gbc_tuned]\n",
    " \n",
    "# defining empty lists to add train and test results\n",
    "acc_train = []\n",
    "acc_test = []\n",
    "recall_train = []\n",
    "recall_test = []\n",
    "precision_train = []\n",
    "precision_test = []\n",
    " \n",
    "# looping through all the models to get the accuracy, precall and precision scores\n",
    "for model in models:\n",
    "    j = get_metrics_score(model,False)\n",
    "    acc_train.append(np.round(j[0],2))\n",
    "    acc_test.append(np.round(j[1],2))\n",
    "    recall_train.append(np.round(j[2],2))\n",
    "    recall_test.append(np.round(j[3],2))\n",
    "    precision_train.append(np.round(j[4],2))\n",
    "    precision_test.append(np.round(j[5],2))"
   ]
  },
  {
   "cell_type": "code",
   "execution_count": 0,
   "metadata": {
    "application/vnd.databricks.v1+cell": {
     "cellMetadata": {
      "byteLimit": 2048000,
      "rowLimit": 10000
     },
     "inputWidgets": {},
     "nuid": "7e6b61e6-da0d-4325-9c98-4f100001d0c6",
     "showTitle": false,
     "title": ""
    }
   },
   "outputs": [
    {
     "output_type": "display_data",
     "data": {
      "text/html": [
       "<div>\n",
       "<style scoped>\n",
       "    .dataframe tbody tr th:only-of-type {\n",
       "        vertical-align: middle;\n",
       "    }\n",
       "\n",
       "    .dataframe tbody tr th {\n",
       "        vertical-align: top;\n",
       "    }\n",
       "\n",
       "    .dataframe thead th {\n",
       "        text-align: right;\n",
       "    }\n",
       "</style>\n",
       "<table border=\"1\" class=\"dataframe\">\n",
       "  <thead>\n",
       "    <tr style=\"text-align: right;\">\n",
       "      <th></th>\n",
       "      <th>Model</th>\n",
       "      <th>Train_Accuracy</th>\n",
       "      <th>Test_Accuracy</th>\n",
       "      <th>Train_Recall</th>\n",
       "      <th>Test_Recall</th>\n",
       "      <th>Train_Precision</th>\n",
       "      <th>Test_Precision</th>\n",
       "    </tr>\n",
       "  </thead>\n",
       "  <tbody>\n",
       "    <tr>\n",
       "      <th>0</th>\n",
       "      <td>AdaBoost with default paramters</td>\n",
       "      <td>0.84</td>\n",
       "      <td>0.76</td>\n",
       "      <td>0.75</td>\n",
       "      <td>0.59</td>\n",
       "      <td>0.79</td>\n",
       "      <td>0.68</td>\n",
       "    </tr>\n",
       "    <tr>\n",
       "      <th>1</th>\n",
       "      <td>AdaBoost Tuned</td>\n",
       "      <td>0.71</td>\n",
       "      <td>0.68</td>\n",
       "      <td>0.84</td>\n",
       "      <td>0.79</td>\n",
       "      <td>0.55</td>\n",
       "      <td>0.52</td>\n",
       "    </tr>\n",
       "    <tr>\n",
       "      <th>2</th>\n",
       "      <td>Gradient Boosting with default parameters</td>\n",
       "      <td>0.94</td>\n",
       "      <td>0.72</td>\n",
       "      <td>0.88</td>\n",
       "      <td>0.49</td>\n",
       "      <td>0.94</td>\n",
       "      <td>0.63</td>\n",
       "    </tr>\n",
       "    <tr>\n",
       "      <th>3</th>\n",
       "      <td>Gradient Boosting with init=AdaBoost</td>\n",
       "      <td>0.94</td>\n",
       "      <td>0.76</td>\n",
       "      <td>0.88</td>\n",
       "      <td>0.57</td>\n",
       "      <td>0.94</td>\n",
       "      <td>0.69</td>\n",
       "    </tr>\n",
       "    <tr>\n",
       "      <th>4</th>\n",
       "      <td>Gradient Boosting Tuned</td>\n",
       "      <td>0.97</td>\n",
       "      <td>0.73</td>\n",
       "      <td>0.93</td>\n",
       "      <td>0.51</td>\n",
       "      <td>0.98</td>\n",
       "      <td>0.64</td>\n",
       "    </tr>\n",
       "  </tbody>\n",
       "</table>\n",
       "</div>"
      ]
     },
     "metadata": {
      "application/vnd.databricks.v1+output": {
       "addedWidgets": {},
       "arguments": {},
       "data": "<div>\n<style scoped>\n    .dataframe tbody tr th:only-of-type {\n        vertical-align: middle;\n    }\n\n    .dataframe tbody tr th {\n        vertical-align: top;\n    }\n\n    .dataframe thead th {\n        text-align: right;\n    }\n</style>\n<table border=\"1\" class=\"dataframe\">\n  <thead>\n    <tr style=\"text-align: right;\">\n      <th></th>\n      <th>Model</th>\n      <th>Train_Accuracy</th>\n      <th>Test_Accuracy</th>\n      <th>Train_Recall</th>\n      <th>Test_Recall</th>\n      <th>Train_Precision</th>\n      <th>Test_Precision</th>\n    </tr>\n  </thead>\n  <tbody>\n    <tr>\n      <th>0</th>\n      <td>AdaBoost with default paramters</td>\n      <td>0.84</td>\n      <td>0.76</td>\n      <td>0.75</td>\n      <td>0.59</td>\n      <td>0.79</td>\n      <td>0.68</td>\n    </tr>\n    <tr>\n      <th>1</th>\n      <td>AdaBoost Tuned</td>\n      <td>0.71</td>\n      <td>0.68</td>\n      <td>0.84</td>\n      <td>0.79</td>\n      <td>0.55</td>\n      <td>0.52</td>\n    </tr>\n    <tr>\n      <th>2</th>\n      <td>Gradient Boosting with default parameters</td>\n      <td>0.94</td>\n      <td>0.72</td>\n      <td>0.88</td>\n      <td>0.49</td>\n      <td>0.94</td>\n      <td>0.63</td>\n    </tr>\n    <tr>\n      <th>3</th>\n      <td>Gradient Boosting with init=AdaBoost</td>\n      <td>0.94</td>\n      <td>0.76</td>\n      <td>0.88</td>\n      <td>0.57</td>\n      <td>0.94</td>\n      <td>0.69</td>\n    </tr>\n    <tr>\n      <th>4</th>\n      <td>Gradient Boosting Tuned</td>\n      <td>0.97</td>\n      <td>0.73</td>\n      <td>0.93</td>\n      <td>0.51</td>\n      <td>0.98</td>\n      <td>0.64</td>\n    </tr>\n  </tbody>\n</table>\n</div>",
       "datasetInfos": [],
       "metadata": {},
       "removedWidgets": [],
       "textData": null,
       "type": "htmlSandbox"
      }
     },
     "output_type": "display_data"
    }
   ],
   "source": [
    "comparison_frame = pd.DataFrame({'Model':['AdaBoost with default paramters','AdaBoost Tuned', \n",
    "                                          'Gradient Boosting with default parameters','Gradient Boosting with init=AdaBoost',\n",
    "                                          'Gradient Boosting Tuned'], \n",
    "                                          'Train_Accuracy': acc_train,'Test_Accuracy': acc_test,\n",
    "                                          'Train_Recall':recall_train,'Test_Recall':recall_test,\n",
    "                                          'Train_Precision':precision_train,'Test_Precision':precision_test}) \n",
    "comparison_frame"
   ]
  },
  {
   "cell_type": "markdown",
   "metadata": {
    "application/vnd.databricks.v1+cell": {
     "cellMetadata": {},
     "inputWidgets": {},
     "nuid": "8168c37b-886b-4562-9ed0-7eefb876464a",
     "showTitle": false,
     "title": ""
    }
   },
   "source": [
    "### Observations\n",
    "Based on these results:\n",
    "- AdaBoost with default parameters performs reasonably well with high precision but lower recall on the test set.\n",
    "- AdaBoost tuned has lower accuracy and precision compared to the default AdaBoost, but it has higher recall.\n",
    "- Gradient Boosting models generally perform well on the training set, but they tend to overfit, as evidenced by the drop in performance on the test set. However, the model initialized with AdaBoost seems to perform better.\n",
    "- Gradient Boosting tuned has the highest accuracy and precision on the training set but does not generalize well to the test set, indicating potential overfitting."
   ]
  },
  {
   "cell_type": "markdown",
   "metadata": {
    "application/vnd.databricks.v1+cell": {
     "cellMetadata": {
      "byteLimit": 2048000,
      "rowLimit": 10000
     },
     "inputWidgets": {},
     "nuid": "f971bf73-20ab-4835-91e6-caf9f639a7ec",
     "showTitle": false,
     "title": ""
    }
   },
   "source": [
    "## Conclusion\n",
    "- install packages\n",
    "- Upload PySpark and Spark libs\n",
    "- create a spark session\n",
    "- loading libraries\n",
    "- read/load dataset using spark and pyspark\n",
    "- EDA : see information, head, summary, missing value, describing statistical summary of table, data type\n",
    "- Model Buildig: defining x and y, spliting data and model building (AdaBoost Classifier and Gradient Boosting Classifier)\n",
    "1. Adaboost Classifier : \n",
    "  -- Accuracy on training set :  0.8435754189944135\n",
    "  -- Accuracy on test set :  0.7575757575757576\n",
    "  -- Recall on training set :  0.7540106951871658\n",
    "  -- Recall on test set :  0.5925925925925926\n",
    "  -- Precision on training set :  0.7877094972067039\n",
    "  -- Precision on test set :  0.676056338028169\n",
    "2. Gradient Boosting Classifier\n",
    "  -- Accuracy on training set :  0.9385474860335196\n",
    "  -- Accuracy on test set :  0.7229437229437229\n",
    "  -- Recall on training set :  0.8823529411764706\n",
    "  -- Recall on test set :  0.49382716049382713\n",
    "  -- Precision on training set :  0.9375\n",
    "  -- Precision on test set :  0.6349206349206349\n",
    "- Based on these calculations, the Gradient Boosting model with tuning (GB Tuned) seems to have the highest, suggesting better overall performance among the models.\n",
    "- AdaBoost with default parameters performs reasonably well with high precision but lower recall on the test set.\n",
    "- AdaBoost tuned has lower accuracy and precision compared to the default AdaBoost, but it has higher recall.\n",
    "- Gradient Boosting models generally perform well on the training set, but they tend to overfit, as evidenced by the drop in performance on the test set. However, the model initialized with AdaBoost seems to perform better.\n",
    "- Gradient Boosting tuned has the highest accuracy and precision on the training set but does not generalize well to the test set, indicating potential overfitting."
   ]
  }
 ],
 "metadata": {
  "application/vnd.databricks.v1+notebook": {
   "dashboards": [],
   "language": "python",
   "notebookMetadata": {
    "mostRecentlyExecutedCommandWithImplicitDF": {
     "commandId": -1,
     "dataframes": [
      "_sqldf"
     ]
    },
    "pythonIndentUnit": 4
   },
   "notebookName": "Simsek_Final_Notebook",
   "widgets": {}
  }
 },
 "nbformat": 4,
 "nbformat_minor": 0
}
